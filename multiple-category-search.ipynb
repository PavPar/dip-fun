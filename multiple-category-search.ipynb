{
 "cells": [
  {
   "cell_type": "markdown",
   "metadata": {},
   "source": [
    "Импорты"
   ]
  },
  {
   "cell_type": "code",
   "execution_count": 1,
   "metadata": {},
   "outputs": [],
   "source": [
    "import json\n",
    "import pandas as pd\n",
    "from transliterate  import translit\n",
    "from yargy.tokenizer import MorphTokenizer\n",
    "import pymorphy2\n",
    "from yargy import (\n",
    "    Parser,\n",
    "    rule, or_, and_, not_,\n",
    ")\n",
    "\n",
    "from yargy.predicates import (\n",
    "    caseless, type, gram, normalized,\n",
    "    in_, in_caseless, dictionary\n",
    ")\n",
    "\n",
    "from yargy.pipelines import (\n",
    "    caseless_pipeline,\n",
    "    morph_pipeline\n",
    ")\n",
    "from yargy.interpretation import (\n",
    "    fact,\n",
    "    attribute\n",
    ")\n",
    "from yargy import interpretation as interp\n",
    "INT = type('INT')"
   ]
  },
  {
   "cell_type": "markdown",
   "metadata": {},
   "source": [
    "Загрузка файлов"
   ]
  },
  {
   "cell_type": "code",
   "execution_count": 2,
   "metadata": {},
   "outputs": [],
   "source": [
    "bread = pd.read_json('bread-probe.json')\n",
    "milk = pd.read_json('milk-normal.json')"
   ]
  },
  {
   "cell_type": "markdown",
   "metadata": {},
   "source": [
    "Функция получения производителей"
   ]
  },
  {
   "cell_type": "code",
   "execution_count": 3,
   "metadata": {},
   "outputs": [],
   "source": [
    "def getVendors(data):\n",
    "    vendorlist = []\n",
    "    for i in range(0,len(data['manufacturer'])):\n",
    "        item = data['manufacturer'][i]['name'];\n",
    "        if(item not in vendorlist):\n",
    "            vendorlist.append(item)\n",
    "            alt = translit(item, 'ru');\n",
    "            if(alt != item):\n",
    "                vendorlist.append(alt)\n",
    "    return vendorlist"
   ]
  },
  {
   "cell_type": "markdown",
   "metadata": {},
   "source": [
    "Функция поиска вхождений слов"
   ]
  },
  {
   "cell_type": "code",
   "execution_count": 4,
   "metadata": {},
   "outputs": [],
   "source": [
    "def findWordOccurance(data):\n",
    "    occ = {}\n",
    "    for name in data['name'].values:\n",
    "        words = name.split()\n",
    "        for word in words:\n",
    "            word = word.upper().strip()\n",
    "            if not word in occ:\n",
    "                occ[word] = 0\n",
    "            occ[word] = occ[word]+1\n",
    "    sorted_dict = {}\n",
    "    sorted_keys = sorted(occ, key=occ.get,reverse=True)\n",
    "\n",
    "    for key in sorted_keys:\n",
    "        sorted_dict[key] = occ[key]\n",
    "    return sorted_dict"
   ]
  },
  {
   "cell_type": "markdown",
   "metadata": {},
   "source": [
    "Нормализация слов"
   ]
  },
  {
   "cell_type": "code",
   "execution_count": 5,
   "metadata": {},
   "outputs": [],
   "source": [
    "def normalizeKeys(orgKeys,vendorlist=[]):\n",
    "    morph = pymorphy2.MorphAnalyzer()\n",
    "    tokenizer = MorphTokenizer()\n",
    "    for key in list(orgKeys):\n",
    "        keyData = list(tokenizer(key))\n",
    "        p = morph.parse(key)[0]\n",
    "    \n",
    "        if(key in vendorlist):\n",
    "            orgKeys.remove(key)\n",
    "            continue\n",
    "        if(len(key) <= 1):\n",
    "            orgKeys.remove(key)\n",
    "            continue\n",
    "        if(len(keyData)>1):\n",
    "            orgKeys.remove(key)\n",
    "            continue\n",
    "        if({'UNKN'} in p.tag):\n",
    "            orgKeys.remove(key)\n",
    "            continue\n",
    "        if({'NUMB'} in p.tag):\n",
    "            orgKeys.remove(key)\n",
    "            continue\n",
    "    return orgKeys"
   ]
  },
  {
   "cell_type": "markdown",
   "metadata": {},
   "source": [
    "Перевод слова в транслит"
   ]
  },
  {
   "cell_type": "code",
   "execution_count": 6,
   "metadata": {},
   "outputs": [],
   "source": [
    "def translitNames(names):\n",
    "    for name in names:\n",
    "        alt = translit(name, 'ru');\n",
    "        if(alt != name):\n",
    "            names.append(alt)\n",
    "    return names"
   ]
  },
  {
   "cell_type": "markdown",
   "metadata": {},
   "source": [
    "**Дальше алгоритм**"
   ]
  },
  {
   "cell_type": "markdown",
   "metadata": {},
   "source": [
    "*Определяем категории*"
   ]
  },
  {
   "cell_type": "code",
   "execution_count": 7,
   "metadata": {},
   "outputs": [],
   "source": [
    "def getCategoriesAndStuff(data):\n",
    "    vendorlist = getVendors(data)\n",
    "    words = findWordOccurance(data)\n",
    "    keys = list((words.keys()))\n",
    "    keysNormalized = normalizeKeys(keys,vendorlist)\n",
    "    categoryName = list(keysNormalized)[0]\n",
    "    keysNormalized.remove(categoryName)\n",
    "    return {\"name\":categoryName,\"keywords\":keysNormalized,\"vendorlist\":vendorlist}"
   ]
  },
  {
   "cell_type": "code",
   "execution_count": 8,
   "metadata": {},
   "outputs": [],
   "source": [
    "milkCategory = getCategoriesAndStuff(milk)\n",
    "breadCategory = getCategoriesAndStuff(bread)"
   ]
  },
  {
   "cell_type": "markdown",
   "metadata": {},
   "source": [
    "Непосредстваенно алгоритм поиска"
   ]
  },
  {
   "cell_type": "code",
   "execution_count": 9,
   "metadata": {},
   "outputs": [],
   "source": [
    "allCategories = {}\n",
    "allCategories[milkCategory['name']] = milkCategory\n",
    "allCategories[breadCategory['name']] = breadCategory"
   ]
  },
  {
   "cell_type": "markdown",
   "metadata": {},
   "source": [
    "Этап 1.Определение категории"
   ]
  },
  {
   "cell_type": "code",
   "execution_count": 10,
   "metadata": {},
   "outputs": [],
   "source": [
    "text = ''' 3 буханки Еврохлеба, 4 хлеба Гербер  3 молока Простоквашино'''"
   ]
  },
  {
   "cell_type": "code",
   "execution_count": 11,
   "metadata": {},
   "outputs": [],
   "source": [
    "Item = fact(\n",
    "    'item',\n",
    "    ['amount','type', 'vendor']\n",
    ")"
   ]
  },
  {
   "cell_type": "code",
   "execution_count": 12,
   "metadata": {},
   "outputs": [],
   "source": [
    "TYPE = morph_pipeline(list(allCategories.keys()))\n",
    "ITEM_Category = rule(\n",
    "    TYPE.interpretation(\n",
    "        Item.type\n",
    "    )\n",
    ").interpretation(\n",
    "    Item\n",
    ")"
   ]
  },
  {
   "cell_type": "code",
   "execution_count": 13,
   "metadata": {},
   "outputs": [],
   "source": [
    "parser = Parser(ITEM_Category)\n",
    "match = parser.find(text)\n",
    "for match in parser.findall(text):\n",
    "    category = [_.value for _ in match.tokens][0]"
   ]
  },
  {
   "cell_type": "markdown",
   "metadata": {},
   "source": [
    "Этап 2. Определение производителя"
   ]
  },
  {
   "cell_type": "code",
   "execution_count": 14,
   "metadata": {},
   "outputs": [
    {
     "data": {
      "text/plain": [
       "'МОЛОКО'"
      ]
     },
     "execution_count": 14,
     "metadata": {},
     "output_type": "execute_result"
    }
   ],
   "source": [
    "morph = pymorphy2.MorphAnalyzer()\n",
    "categoryName = morph.parse(category)[0].normal_form.upper()\n",
    "categoryName"
   ]
  },
  {
   "cell_type": "code",
   "execution_count": 15,
   "metadata": {},
   "outputs": [
    {
     "data": {
      "text/plain": [
       "['VALIO',\n",
       " 'ВАЛИО',\n",
       " 'RIOBA',\n",
       " 'РИОБА',\n",
       " 'ARO',\n",
       " 'АРО',\n",
       " 'PARMALAT',\n",
       " 'ПАРМАЛАТ',\n",
       " 'G-BALANCE',\n",
       " 'Г-БАЛАНЦЕ',\n",
       " 'ДОМИК В ДЕРЕВНЕ',\n",
       " 'ПРОСТОКВАШИНО',\n",
       " 'БЕЛЫЙ ГОРОД',\n",
       " 'ПЕТМОЛ',\n",
       " 'ТЕМА',\n",
       " 'ЭКОНИВА',\n",
       " 'АСЕНЬЕВСКАЯ ФЕРМА',\n",
       " 'ПИСКАРЕВСКОЕ',\n",
       " 'ФРУТОНЯНЯ',\n",
       " 'PROMILKER',\n",
       " 'ПРОМИЛКЕР',\n",
       " 'СВЕЖЕЕ ЗАВТРА',\n",
       " 'КЛЕВЕР',\n",
       " 'БОЛЬШАЯ КРУЖКА',\n",
       " 'ВЕСЕЛЫЙ МОЛОЧНИК',\n",
       " 'ВКУСНОТЕЕВО',\n",
       " 'УГЛЕЧЕ ПОЛЕ',\n",
       " 'FASOL',\n",
       " 'ФАСОЛ',\n",
       " 'FINE LIFE',\n",
       " 'ФИНЕ ЛИФЕ',\n",
       " 'АИСФЕР',\n",
       " 'БРЯНСКИЙ МОЛОЧНЫЙ КОМБИНАТ',\n",
       " 'СЕЛО ЗЕЛЕНОЕ',\n",
       " 'BETTAMILK',\n",
       " 'БЕТТАМИЛК',\n",
       " 'ХОЗЯЙСТВО ВАСИЛЬЕВОЙ АВ',\n",
       " 'MOLOKO GROUP',\n",
       " 'МОЛОКО ГРОУП']"
      ]
     },
     "execution_count": 15,
     "metadata": {},
     "output_type": "execute_result"
    }
   ],
   "source": [
    "allCategories[categoryName][\"vendorlist\"]"
   ]
  },
  {
   "cell_type": "code",
   "execution_count": 16,
   "metadata": {},
   "outputs": [],
   "source": [
    "VENDOR = morph_pipeline(allCategories[categoryName][\"vendorlist\"])"
   ]
  },
  {
   "cell_type": "code",
   "execution_count": 17,
   "metadata": {},
   "outputs": [],
   "source": [
    "ITEM_Vendor = rule(\n",
    "    VENDOR.interpretation(\n",
    "        Item.vendor\n",
    "    )\n",
    ").interpretation(\n",
    "    Item\n",
    ")"
   ]
  },
  {
   "cell_type": "code",
   "execution_count": 18,
   "metadata": {},
   "outputs": [
    {
     "data": {
      "text/plain": [
       "Match(\n",
       "    tokens=[MorphToken(\n",
       "         value='Простоквашино',\n",
       "         span=[47, 60),\n",
       "         type='RU',\n",
       "         forms=[Form('простоквашин', Grams(ADJF,Poss,neut,nomn,sing)),\n",
       "          Form('простоквашин', Grams(ADJF,Poss,accs,neut,sing)),\n",
       "          Form('простоквашино', Grams(Geox,NOUN,Sgtm,inan,neut,nomn,sing)),\n",
       "          Form('простоквашино', Grams(Geox,NOUN,Sgtm,accs,inan,neut,sing))]\n",
       "     )],\n",
       "    span=[47, 60)\n",
       ")"
      ]
     },
     "metadata": {},
     "output_type": "display_data"
    }
   ],
   "source": [
    "parser = Parser(ITEM_Vendor)\n",
    "match = parser.find(text)\n",
    "display(match)\n",
    "for match in parser.findall(text):\n",
    "    vendor = [_.value for _ in match.tokens][0]"
   ]
  },
  {
   "cell_type": "markdown",
   "metadata": {},
   "source": [
    "Этап 3 определение кол-ва и прочего"
   ]
  },
  {
   "cell_type": "code",
   "execution_count": 19,
   "metadata": {},
   "outputs": [],
   "source": [
    "TYPE = morph_pipeline([categoryName])"
   ]
  },
  {
   "cell_type": "code",
   "execution_count": 20,
   "metadata": {},
   "outputs": [],
   "source": [
    "AMOUNT =  INT.interpretation(\n",
    "    interp.custom(int)\n",
    ")"
   ]
  },
  {
   "cell_type": "code",
   "execution_count": 21,
   "metadata": {},
   "outputs": [],
   "source": [
    "ITEM_MISC = rule(\n",
    "    AMOUNT.interpretation(\n",
    "       Item.amount\n",
    "    ).optional(),\n",
    "    TYPE.interpretation(\n",
    "        Item.type\n",
    "    ),\n",
    "    VENDOR.interpretation(\n",
    "        Item.vendor\n",
    "    ).optional()\n",
    ").interpretation(\n",
    "    Item\n",
    ")"
   ]
  },
  {
   "cell_type": "code",
   "execution_count": 22,
   "metadata": {
    "scrolled": true
   },
   "outputs": [
    {
     "data": {
      "text/plain": [
       "Match(\n",
       "    tokens=[Token(\n",
       "         value='3',\n",
       "         span=[38, 39),\n",
       "         type='INT'\n",
       "     ),\n",
       "     MorphToken(\n",
       "         value='молока',\n",
       "         span=[40, 46),\n",
       "         type='RU',\n",
       "         forms=[Form('молоко', Grams(NOUN,Sgtm,gent,inan,neut,sing)),\n",
       "          Form('молока', Grams(NOUN,femn,inan,nomn,sing))]\n",
       "     ),\n",
       "     MorphToken(\n",
       "         value='Простоквашино',\n",
       "         span=[47, 60),\n",
       "         type='RU',\n",
       "         forms=[Form('простоквашин', Grams(ADJF,Poss,neut,nomn,sing)),\n",
       "          Form('простоквашин', Grams(ADJF,Poss,accs,neut,sing)),\n",
       "          Form('простоквашино', Grams(Geox,NOUN,Sgtm,inan,neut,nomn,sing)),\n",
       "          Form('простоквашино', Grams(Geox,NOUN,Sgtm,accs,inan,neut,sing))]\n",
       "     )],\n",
       "    span=[38, 60)\n",
       ")"
      ]
     },
     "metadata": {},
     "output_type": "display_data"
    }
   ],
   "source": [
    "parser = Parser(ITEM_MISC)\n",
    "match = parser.find(text)\n",
    "display(match)\n",
    "for match in parser.findall(text):\n",
    "    vendor = [_.value for _ in match.tokens][0]"
   ]
  },
  {
   "cell_type": "code",
   "execution_count": 25,
   "metadata": {
    "scrolled": true
   },
   "outputs": [
    {
     "data": {
      "text/plain": [
       "3"
      ]
     },
     "execution_count": 25,
     "metadata": {},
     "output_type": "execute_result"
    }
   ],
   "source": [
    "match.fact.vendor\n",
    "match.fact.type\n",
    "match.fact.amount"
   ]
  },
  {
   "cell_type": "markdown",
   "metadata": {},
   "source": [
    "Заключительный этап. Поиск по БД"
   ]
  },
  {
   "cell_type": "code",
   "execution_count": 34,
   "metadata": {},
   "outputs": [
    {
     "data": {
      "text/plain": [
       "0           {'id': 1783, 'name': 'VALIO', 'image': None}\n",
       "1           {'id': 1710, 'name': 'RIOBA', 'image': None}\n",
       "2           {'id': 1710, 'name': 'RIOBA', 'image': None}\n",
       "3             {'id': 8553, 'name': 'ARO', 'image': None}\n",
       "4             {'id': 8553, 'name': 'ARO', 'image': None}\n",
       "                             ...                        \n",
       "105    {'id': 22039, 'name': 'MOLOKO GROUP', 'image':...\n",
       "106    {'id': 2775, 'name': 'БОЛЬШАЯ КРУЖКА', 'image'...\n",
       "107    {'id': 2775, 'name': 'БОЛЬШАЯ КРУЖКА', 'image'...\n",
       "108    {'id': 1825, 'name': 'БЕЛЫЙ ГОРОД', 'image': N...\n",
       "109    {'id': 1825, 'name': 'БЕЛЫЙ ГОРОД', 'image': N...\n",
       "Name: manufacturer, Length: 110, dtype: object"
      ]
     },
     "execution_count": 34,
     "metadata": {},
     "output_type": "execute_result"
    }
   ],
   "source": [
    "milk['manufacturer']"
   ]
  },
  {
   "cell_type": "code",
   "execution_count": 41,
   "metadata": {},
   "outputs": [
    {
     "name": "stderr",
     "output_type": "stream",
     "text": [
      "/usr/local/lib/python3.6/dist-packages/ipykernel_launcher.py:1: FutureWarning: `item` has been deprecated and will be removed in a future version\n",
      "  \"\"\"Entry point for launching an IPython kernel.\n"
     ]
    },
    {
     "ename": "ValueError",
     "evalue": "can only convert an array of size 1 to a Python scalar",
     "output_type": "error",
     "traceback": [
      "\u001b[0;31m---------------------------------------------------------------------------\u001b[0m",
      "\u001b[0;31mValueError\u001b[0m                                Traceback (most recent call last)",
      "\u001b[0;32m<ipython-input-41-1debd2b1b5b0>\u001b[0m in \u001b[0;36m<module>\u001b[0;34m\u001b[0m\n\u001b[0;32m----> 1\u001b[0;31m \u001b[0mmilk\u001b[0m\u001b[0;34m[\u001b[0m\u001b[0mmilk\u001b[0m\u001b[0;34m[\u001b[0m\u001b[0;34m'manufacturer'\u001b[0m\u001b[0;34m]\u001b[0m\u001b[0;34m.\u001b[0m\u001b[0mitem\u001b[0m\u001b[0;34m(\u001b[0m\u001b[0;34m)\u001b[0m\u001b[0;34m[\u001b[0m\u001b[0;34m'name'\u001b[0m\u001b[0;34m]\u001b[0m \u001b[0;34m==\u001b[0m \u001b[0;34m\"VALIO\"\u001b[0m\u001b[0;34m]\u001b[0m\u001b[0;34m\u001b[0m\u001b[0;34m\u001b[0m\u001b[0m\n\u001b[0m",
      "\u001b[0;32m/usr/local/lib/python3.6/dist-packages/pandas/core/base.py\u001b[0m in \u001b[0;36mitem\u001b[0;34m(self)\u001b[0m\n\u001b[1;32m    738\u001b[0m             \u001b[0mstacklevel\u001b[0m\u001b[0;34m=\u001b[0m\u001b[0;36m2\u001b[0m\u001b[0;34m,\u001b[0m\u001b[0;34m\u001b[0m\u001b[0;34m\u001b[0m\u001b[0m\n\u001b[1;32m    739\u001b[0m         )\n\u001b[0;32m--> 740\u001b[0;31m         \u001b[0;32mreturn\u001b[0m \u001b[0mself\u001b[0m\u001b[0;34m.\u001b[0m\u001b[0mvalues\u001b[0m\u001b[0;34m.\u001b[0m\u001b[0mitem\u001b[0m\u001b[0;34m(\u001b[0m\u001b[0;34m)\u001b[0m\u001b[0;34m\u001b[0m\u001b[0;34m\u001b[0m\u001b[0m\n\u001b[0m\u001b[1;32m    741\u001b[0m \u001b[0;34m\u001b[0m\u001b[0m\n\u001b[1;32m    742\u001b[0m     \u001b[0;34m@\u001b[0m\u001b[0mproperty\u001b[0m\u001b[0;34m\u001b[0m\u001b[0;34m\u001b[0m\u001b[0m\n",
      "\u001b[0;31mValueError\u001b[0m: can only convert an array of size 1 to a Python scalar"
     ]
    }
   ],
   "source": [
    "milk[milk['manufacturer'].item()['name'] == \"VALIO\"]"
   ]
  },
  {
   "cell_type": "code",
   "execution_count": 27,
   "metadata": {
    "scrolled": true
   },
   "outputs": [
    {
     "ename": "KeyError",
     "evalue": "False",
     "output_type": "error",
     "traceback": [
      "\u001b[0;31m---------------------------------------------------------------------------\u001b[0m",
      "\u001b[0;31mKeyError\u001b[0m                                  Traceback (most recent call last)",
      "\u001b[0;32m/usr/local/lib/python3.6/dist-packages/pandas/core/indexes/base.py\u001b[0m in \u001b[0;36mget_loc\u001b[0;34m(self, key, method, tolerance)\u001b[0m\n\u001b[1;32m   2896\u001b[0m             \u001b[0;32mtry\u001b[0m\u001b[0;34m:\u001b[0m\u001b[0;34m\u001b[0m\u001b[0;34m\u001b[0m\u001b[0m\n\u001b[0;32m-> 2897\u001b[0;31m                 \u001b[0;32mreturn\u001b[0m \u001b[0mself\u001b[0m\u001b[0;34m.\u001b[0m\u001b[0m_engine\u001b[0m\u001b[0;34m.\u001b[0m\u001b[0mget_loc\u001b[0m\u001b[0;34m(\u001b[0m\u001b[0mkey\u001b[0m\u001b[0;34m)\u001b[0m\u001b[0;34m\u001b[0m\u001b[0;34m\u001b[0m\u001b[0m\n\u001b[0m\u001b[1;32m   2898\u001b[0m             \u001b[0;32mexcept\u001b[0m \u001b[0mKeyError\u001b[0m\u001b[0;34m:\u001b[0m\u001b[0;34m\u001b[0m\u001b[0;34m\u001b[0m\u001b[0m\n",
      "\u001b[0;32mpandas/_libs/index.pyx\u001b[0m in \u001b[0;36mpandas._libs.index.IndexEngine.get_loc\u001b[0;34m()\u001b[0m\n",
      "\u001b[0;32mpandas/_libs/index.pyx\u001b[0m in \u001b[0;36mpandas._libs.index.IndexEngine.get_loc\u001b[0;34m()\u001b[0m\n",
      "\u001b[0;32mpandas/_libs/hashtable_class_helper.pxi\u001b[0m in \u001b[0;36mpandas._libs.hashtable.PyObjectHashTable.get_item\u001b[0;34m()\u001b[0m\n",
      "\u001b[0;32mpandas/_libs/hashtable_class_helper.pxi\u001b[0m in \u001b[0;36mpandas._libs.hashtable.PyObjectHashTable.get_item\u001b[0;34m()\u001b[0m\n",
      "\u001b[0;31mKeyError\u001b[0m: False",
      "\nDuring handling of the above exception, another exception occurred:\n",
      "\u001b[0;31mKeyError\u001b[0m                                  Traceback (most recent call last)",
      "\u001b[0;32m<ipython-input-27-99e887e821a6>\u001b[0m in \u001b[0;36m<module>\u001b[0;34m\u001b[0m\n\u001b[0;32m----> 1\u001b[0;31m \u001b[0mmilk\u001b[0m\u001b[0;34m[\u001b[0m\u001b[0mmilk\u001b[0m\u001b[0;34m[\u001b[0m\u001b[0;34m'manufacturer'\u001b[0m\u001b[0;34m]\u001b[0m\u001b[0;34m.\u001b[0m\u001b[0mname\u001b[0m\u001b[0;34m.\u001b[0m\u001b[0mupper\u001b[0m\u001b[0;34m(\u001b[0m\u001b[0;34m)\u001b[0m \u001b[0;34m==\u001b[0m  \u001b[0mmatch\u001b[0m\u001b[0;34m.\u001b[0m\u001b[0mfact\u001b[0m\u001b[0;34m.\u001b[0m\u001b[0mvendor\u001b[0m\u001b[0;34m]\u001b[0m\u001b[0;34m\u001b[0m\u001b[0;34m\u001b[0m\u001b[0m\n\u001b[0m",
      "\u001b[0;32m/usr/local/lib/python3.6/dist-packages/pandas/core/frame.py\u001b[0m in \u001b[0;36m__getitem__\u001b[0;34m(self, key)\u001b[0m\n\u001b[1;32m   2993\u001b[0m             \u001b[0;32mif\u001b[0m \u001b[0mself\u001b[0m\u001b[0;34m.\u001b[0m\u001b[0mcolumns\u001b[0m\u001b[0;34m.\u001b[0m\u001b[0mnlevels\u001b[0m \u001b[0;34m>\u001b[0m \u001b[0;36m1\u001b[0m\u001b[0;34m:\u001b[0m\u001b[0;34m\u001b[0m\u001b[0;34m\u001b[0m\u001b[0m\n\u001b[1;32m   2994\u001b[0m                 \u001b[0;32mreturn\u001b[0m \u001b[0mself\u001b[0m\u001b[0;34m.\u001b[0m\u001b[0m_getitem_multilevel\u001b[0m\u001b[0;34m(\u001b[0m\u001b[0mkey\u001b[0m\u001b[0;34m)\u001b[0m\u001b[0;34m\u001b[0m\u001b[0;34m\u001b[0m\u001b[0m\n\u001b[0;32m-> 2995\u001b[0;31m             \u001b[0mindexer\u001b[0m \u001b[0;34m=\u001b[0m \u001b[0mself\u001b[0m\u001b[0;34m.\u001b[0m\u001b[0mcolumns\u001b[0m\u001b[0;34m.\u001b[0m\u001b[0mget_loc\u001b[0m\u001b[0;34m(\u001b[0m\u001b[0mkey\u001b[0m\u001b[0;34m)\u001b[0m\u001b[0;34m\u001b[0m\u001b[0;34m\u001b[0m\u001b[0m\n\u001b[0m\u001b[1;32m   2996\u001b[0m             \u001b[0;32mif\u001b[0m \u001b[0mis_integer\u001b[0m\u001b[0;34m(\u001b[0m\u001b[0mindexer\u001b[0m\u001b[0;34m)\u001b[0m\u001b[0;34m:\u001b[0m\u001b[0;34m\u001b[0m\u001b[0;34m\u001b[0m\u001b[0m\n\u001b[1;32m   2997\u001b[0m                 \u001b[0mindexer\u001b[0m \u001b[0;34m=\u001b[0m \u001b[0;34m[\u001b[0m\u001b[0mindexer\u001b[0m\u001b[0;34m]\u001b[0m\u001b[0;34m\u001b[0m\u001b[0;34m\u001b[0m\u001b[0m\n",
      "\u001b[0;32m/usr/local/lib/python3.6/dist-packages/pandas/core/indexes/base.py\u001b[0m in \u001b[0;36mget_loc\u001b[0;34m(self, key, method, tolerance)\u001b[0m\n\u001b[1;32m   2897\u001b[0m                 \u001b[0;32mreturn\u001b[0m \u001b[0mself\u001b[0m\u001b[0;34m.\u001b[0m\u001b[0m_engine\u001b[0m\u001b[0;34m.\u001b[0m\u001b[0mget_loc\u001b[0m\u001b[0;34m(\u001b[0m\u001b[0mkey\u001b[0m\u001b[0;34m)\u001b[0m\u001b[0;34m\u001b[0m\u001b[0;34m\u001b[0m\u001b[0m\n\u001b[1;32m   2898\u001b[0m             \u001b[0;32mexcept\u001b[0m \u001b[0mKeyError\u001b[0m\u001b[0;34m:\u001b[0m\u001b[0;34m\u001b[0m\u001b[0;34m\u001b[0m\u001b[0m\n\u001b[0;32m-> 2899\u001b[0;31m                 \u001b[0;32mreturn\u001b[0m \u001b[0mself\u001b[0m\u001b[0;34m.\u001b[0m\u001b[0m_engine\u001b[0m\u001b[0;34m.\u001b[0m\u001b[0mget_loc\u001b[0m\u001b[0;34m(\u001b[0m\u001b[0mself\u001b[0m\u001b[0;34m.\u001b[0m\u001b[0m_maybe_cast_indexer\u001b[0m\u001b[0;34m(\u001b[0m\u001b[0mkey\u001b[0m\u001b[0;34m)\u001b[0m\u001b[0;34m)\u001b[0m\u001b[0;34m\u001b[0m\u001b[0;34m\u001b[0m\u001b[0m\n\u001b[0m\u001b[1;32m   2900\u001b[0m         \u001b[0mindexer\u001b[0m \u001b[0;34m=\u001b[0m \u001b[0mself\u001b[0m\u001b[0;34m.\u001b[0m\u001b[0mget_indexer\u001b[0m\u001b[0;34m(\u001b[0m\u001b[0;34m[\u001b[0m\u001b[0mkey\u001b[0m\u001b[0;34m]\u001b[0m\u001b[0;34m,\u001b[0m \u001b[0mmethod\u001b[0m\u001b[0;34m=\u001b[0m\u001b[0mmethod\u001b[0m\u001b[0;34m,\u001b[0m \u001b[0mtolerance\u001b[0m\u001b[0;34m=\u001b[0m\u001b[0mtolerance\u001b[0m\u001b[0;34m)\u001b[0m\u001b[0;34m\u001b[0m\u001b[0;34m\u001b[0m\u001b[0m\n\u001b[1;32m   2901\u001b[0m         \u001b[0;32mif\u001b[0m \u001b[0mindexer\u001b[0m\u001b[0;34m.\u001b[0m\u001b[0mndim\u001b[0m \u001b[0;34m>\u001b[0m \u001b[0;36m1\u001b[0m \u001b[0;32mor\u001b[0m \u001b[0mindexer\u001b[0m\u001b[0;34m.\u001b[0m\u001b[0msize\u001b[0m \u001b[0;34m>\u001b[0m \u001b[0;36m1\u001b[0m\u001b[0;34m:\u001b[0m\u001b[0;34m\u001b[0m\u001b[0;34m\u001b[0m\u001b[0m\n",
      "\u001b[0;32mpandas/_libs/index.pyx\u001b[0m in \u001b[0;36mpandas._libs.index.IndexEngine.get_loc\u001b[0;34m()\u001b[0m\n",
      "\u001b[0;32mpandas/_libs/index.pyx\u001b[0m in \u001b[0;36mpandas._libs.index.IndexEngine.get_loc\u001b[0;34m()\u001b[0m\n",
      "\u001b[0;32mpandas/_libs/hashtable_class_helper.pxi\u001b[0m in \u001b[0;36mpandas._libs.hashtable.PyObjectHashTable.get_item\u001b[0;34m()\u001b[0m\n",
      "\u001b[0;32mpandas/_libs/hashtable_class_helper.pxi\u001b[0m in \u001b[0;36mpandas._libs.hashtable.PyObjectHashTable.get_item\u001b[0;34m()\u001b[0m\n",
      "\u001b[0;31mKeyError\u001b[0m: False"
     ]
    }
   ],
   "source": [
    "milk[milk['manufacturer'].name.upper() ==  match.fact.vendor]"
   ]
  }
 ],
 "metadata": {
  "kernelspec": {
   "display_name": "Python 3",
   "language": "python",
   "name": "python3"
  },
  "language_info": {
   "codemirror_mode": {
    "name": "ipython",
    "version": 3
   },
   "file_extension": ".py",
   "mimetype": "text/x-python",
   "name": "python",
   "nbconvert_exporter": "python",
   "pygments_lexer": "ipython3",
   "version": "3.6.9"
  }
 },
 "nbformat": 4,
 "nbformat_minor": 4
}
