{
 "cells": [
  {
   "cell_type": "markdown",
   "metadata": {},
   "source": [
    "Импорты"
   ]
  },
  {
   "cell_type": "code",
   "execution_count": 1,
   "metadata": {},
   "outputs": [
    {
     "name": "stderr",
     "output_type": "stream",
     "text": [
      "/Users/user/.local/lib/python3.9/site-packages/pandas/compat/__init__.py:97: UserWarning: Could not import the lzma module. Your installed Python is incomplete. Attempting to use lzma compression will result in a RuntimeError.\n",
      "  warnings.warn(msg)\n"
     ]
    }
   ],
   "source": [
    "import json\n",
    "import pandas as pd\n",
    "from transliterate  import translit\n",
    "from yargy.tokenizer import MorphTokenizer\n",
    "import pymorphy2\n",
    "from yargy import (\n",
    "    Parser,\n",
    "    rule, or_, and_, not_,\n",
    ")\n",
    "\n",
    "from yargy.predicates import (\n",
    "    caseless, type, gram, normalized,\n",
    "    in_, in_caseless, dictionary\n",
    ")\n",
    "\n",
    "from yargy.pipelines import (\n",
    "    caseless_pipeline,\n",
    "    morph_pipeline\n",
    ")\n",
    "from yargy.interpretation import (\n",
    "    fact,\n",
    "    attribute\n",
    ")\n",
    "from yargy import interpretation as interp\n",
    "INT = type('INT')"
   ]
  },
  {
   "cell_type": "markdown",
   "metadata": {},
   "source": [
    "Загрузка файлов"
   ]
  },
  {
   "cell_type": "code",
   "execution_count": 2,
   "metadata": {},
   "outputs": [],
   "source": [
    "bread = pd.read_json('bread-probe.json')\n",
    "milk = pd.read_json('milk-normal.json')"
   ]
  },
  {
   "cell_type": "markdown",
   "metadata": {},
   "source": [
    "Функция получения производителей"
   ]
  },
  {
   "cell_type": "code",
   "execution_count": 36,
   "metadata": {},
   "outputs": [],
   "source": [
    "def getVendors(data):\n",
    "    vendorlist = {}\n",
    "    for i in range(0,len(data['manufacturer'])):\n",
    "        item = data['manufacturer'][i]['name'];\n",
    "        if(item not in vendorlist):\n",
    "            vendorlist[item] = [item]\n",
    "            alt = translit(item, 'ru');\n",
    "            if(alt != item):\n",
    "                vendorlist[item].append(alt)\n",
    "    return vendorlist"
   ]
  },
  {
   "cell_type": "markdown",
   "metadata": {},
   "source": [
    "Функция поиска вхождений слов"
   ]
  },
  {
   "cell_type": "code",
   "execution_count": 4,
   "metadata": {},
   "outputs": [],
   "source": [
    "def findWordOccurance(data):\n",
    "    occ = {}\n",
    "    for name in data['name'].values:\n",
    "        words = name.split()\n",
    "        for word in words:\n",
    "            word = word.upper().strip()\n",
    "            if not word in occ:\n",
    "                occ[word] = 0\n",
    "            occ[word] = occ[word]+1\n",
    "    sorted_dict = {}\n",
    "    sorted_keys = sorted(occ, key=occ.get,reverse=True)\n",
    "\n",
    "    for key in sorted_keys:\n",
    "        sorted_dict[key] = occ[key]\n",
    "    return sorted_dict"
   ]
  },
  {
   "cell_type": "markdown",
   "metadata": {},
   "source": [
    "Нормализация слов"
   ]
  },
  {
   "cell_type": "code",
   "execution_count": 37,
   "metadata": {},
   "outputs": [],
   "source": [
    "def normalizeKeys(orgKeys,vendorlist=[]):\n",
    "    morph = pymorphy2.MorphAnalyzer()\n",
    "    tokenizer = MorphTokenizer()\n",
    "    for key in list(orgKeys):\n",
    "        keyData = list(tokenizer(key))\n",
    "        p = morph.parse(key)[0]\n",
    "    \n",
    "        if(key in vendorlist):\n",
    "            orgKeys.remove(key)\n",
    "            continue\n",
    "        if(len(key) <= 1):\n",
    "            orgKeys.remove(key)\n",
    "            continue\n",
    "        if(len(keyData)>1):\n",
    "            orgKeys.remove(key)\n",
    "            continue\n",
    "        if({'UNKN'} in p.tag):\n",
    "            orgKeys.remove(key)\n",
    "            continue\n",
    "        if({'NUMB'} in p.tag):\n",
    "            orgKeys.remove(key)\n",
    "            continue\n",
    "    return orgKeys"
   ]
  },
  {
   "cell_type": "markdown",
   "metadata": {},
   "source": [
    "Перевод слова в транслит"
   ]
  },
  {
   "cell_type": "code",
   "execution_count": 6,
   "metadata": {},
   "outputs": [],
   "source": [
    "def translitNames(names):\n",
    "    for name in names:\n",
    "        alt = translit(name, 'ru');\n",
    "        if(alt != name):\n",
    "            names.append(alt)\n",
    "    return names"
   ]
  },
  {
   "cell_type": "markdown",
   "metadata": {},
   "source": [
    "**Дальше алгоритм**"
   ]
  },
  {
   "cell_type": "markdown",
   "metadata": {},
   "source": [
    "*Определяем категории*"
   ]
  },
  {
   "cell_type": "code",
   "execution_count": 38,
   "metadata": {},
   "outputs": [],
   "source": [
    "def getCategoriesAndStuff(data):\n",
    "    vendorlist = getVendors(data)\n",
    "    words = findWordOccurance(data)\n",
    "    keys = list((words.keys()))\n",
    "    keysNormalized = normalizeKeys(keys,vendorlist)\n",
    "    categoryName = list(keysNormalized)[0]\n",
    "    keysNormalized.remove(categoryName)\n",
    "    categoryID = data[\"category_id\"].unique().tolist()\n",
    "    return {\"name\":categoryName,\"keywords\":keysNormalized,\"vendorlist\":vendorlist,\"categoryID\":categoryID}"
   ]
  },
  {
   "cell_type": "code",
   "execution_count": 39,
   "metadata": {},
   "outputs": [],
   "source": [
    "milkCategory = getCategoriesAndStuff(milk)\n",
    "breadCategory = getCategoriesAndStuff(bread)"
   ]
  },
  {
   "cell_type": "markdown",
   "metadata": {},
   "source": [
    "Непосредстваенно алгоритм поиска"
   ]
  },
  {
   "cell_type": "code",
   "execution_count": 40,
   "metadata": {},
   "outputs": [],
   "source": [
    "allCategories = {}\n",
    "allCategories[milkCategory['name']] = milkCategory\n",
    "allCategories[breadCategory['name']] = breadCategory"
   ]
  },
  {
   "cell_type": "code",
   "execution_count": 41,
   "metadata": {},
   "outputs": [
    {
     "data": {
      "text/plain": [
       "{'МОЛОКО': {'name': 'МОЛОКО',\n",
       "  'keywords': ['БЗМЖ',\n",
       "   'УЛЬТРАПАСТЕРИЗОВАННОЕ',\n",
       "   'ПАСТЕРИЗОВАННОЕ',\n",
       "   'ДОМИК',\n",
       "   'ДЕРЕВНЕ',\n",
       "   'СТЕРИЛИЗОВАННОЕ',\n",
       "   'МЛ',\n",
       "   'БОЛЬШАЯ',\n",
       "   'КРУЖКА',\n",
       "   'БЕЛЫЙ',\n",
       "   'ГОРОД',\n",
       "   'ПРАВИЛЬНОЕ',\n",
       "   'БЕЗЛАКТОЗНОЕ',\n",
       "   'ОТБОРНОЕ',\n",
       "   'МОЛОЧНИК',\n",
       "   'ТОПЛЕНОЕ',\n",
       "   'ПИТЬЕВОЕ',\n",
       "   'ВЕСЕЛЫЙ',\n",
       "   'FINE',\n",
       "   'LIFE',\n",
       "   'КОЗЬЕ',\n",
       "   'ЦЕЛЬНОЕ',\n",
       "   'ДЕТСКОЕ',\n",
       "   'АСЕНЬЕВСКАЯ',\n",
       "   'ФЕРМА',\n",
       "   'BARISTA',\n",
       "   'КОНЦЕНТРАТ',\n",
       "   'МЕСЯЦЕВ',\n",
       "   'УГЛЕЧЕ',\n",
       "   'ПОЛЕ',\n",
       "   'ORGANIC',\n",
       "   'MOLOKO',\n",
       "   'EILA',\n",
       "   'СТЕРИЗОВАННОЕ',\n",
       "   'БЕЗ',\n",
       "   'ЗАМЕНИТЕЛЯ',\n",
       "   'МОЛОЧНОГО',\n",
       "   'DIETALAT',\n",
       "   'КАРАМЕЛЬ',\n",
       "   'НИЗКОЛАКТОЗНОЕ',\n",
       "   'ЛЕСНОЙ',\n",
       "   'ОРЕХ',\n",
       "   'ELITE',\n",
       "   'ДЛЯ',\n",
       "   'ДЕТЕЙ',\n",
       "   'PROF',\n",
       "   'LINE',\n",
       "   'БИОЛАКТ',\n",
       "   'ОБОГАЩЕННОЕ',\n",
       "   'СВЕЖЕЕ',\n",
       "   'ЗАВТРА',\n",
       "   'ПИСКАРЕВСКИЙ',\n",
       "   'ОСОБОЕ',\n",
       "   'КЛЕВЕРОК',\n",
       "   'ВЫСШЕГО',\n",
       "   'КАЧЕСТВА',\n",
       "   'ФАСОЛЬ',\n",
       "   'СЕЛО',\n",
       "   'ЗЕЛЕНОЕ',\n",
       "   'ВЕСЁЛЫЙ',\n",
       "   'ХОЗЯЙСТВО',\n",
       "   'ВАСИЛЬЕВОЙ',\n",
       "   'АВ',\n",
       "   'МАСЛО',\n",
       "   'GROUP',\n",
       "   'ДИЕТАЛАТ',\n",
       "   'ШТ',\n",
       "   'ОБЕЗЖИРЕННОЕ'],\n",
       "  'vendorlist': {'VALIO': ['VALIO', 'ВАЛИО'],\n",
       "   'RIOBA': ['RIOBA', 'РИОБА'],\n",
       "   'ARO': ['ARO', 'АРО'],\n",
       "   'PARMALAT': ['PARMALAT', 'ПАРМАЛАТ'],\n",
       "   'G-BALANCE': ['G-BALANCE', 'Г-БАЛАНЦЕ'],\n",
       "   'ДОМИК В ДЕРЕВНЕ': ['ДОМИК В ДЕРЕВНЕ'],\n",
       "   'ПРОСТОКВАШИНО': ['ПРОСТОКВАШИНО'],\n",
       "   'БЕЛЫЙ ГОРОД': ['БЕЛЫЙ ГОРОД'],\n",
       "   'ПЕТМОЛ': ['ПЕТМОЛ'],\n",
       "   'ТЕМА': ['ТЕМА'],\n",
       "   'ЭКОНИВА': ['ЭКОНИВА'],\n",
       "   'АСЕНЬЕВСКАЯ ФЕРМА': ['АСЕНЬЕВСКАЯ ФЕРМА'],\n",
       "   'ПИСКАРЕВСКОЕ': ['ПИСКАРЕВСКОЕ'],\n",
       "   'ФРУТОНЯНЯ': ['ФРУТОНЯНЯ'],\n",
       "   'PROMILKER': ['PROMILKER', 'ПРОМИЛКЕР'],\n",
       "   'СВЕЖЕЕ ЗАВТРА': ['СВЕЖЕЕ ЗАВТРА'],\n",
       "   'КЛЕВЕР': ['КЛЕВЕР'],\n",
       "   'БОЛЬШАЯ КРУЖКА': ['БОЛЬШАЯ КРУЖКА'],\n",
       "   'ВЕСЕЛЫЙ МОЛОЧНИК': ['ВЕСЕЛЫЙ МОЛОЧНИК'],\n",
       "   'ВКУСНОТЕЕВО': ['ВКУСНОТЕЕВО'],\n",
       "   'УГЛЕЧЕ ПОЛЕ': ['УГЛЕЧЕ ПОЛЕ'],\n",
       "   'FASOL': ['FASOL', 'ФАСОЛ'],\n",
       "   'FINE LIFE': ['FINE LIFE', 'ФИНЕ ЛИФЕ'],\n",
       "   'АИСФЕР': ['АИСФЕР'],\n",
       "   'БРЯНСКИЙ МОЛОЧНЫЙ КОМБИНАТ': ['БРЯНСКИЙ МОЛОЧНЫЙ КОМБИНАТ'],\n",
       "   'СЕЛО ЗЕЛЕНОЕ': ['СЕЛО ЗЕЛЕНОЕ'],\n",
       "   'BETTAMILK': ['BETTAMILK', 'БЕТТАМИЛК'],\n",
       "   'ХОЗЯЙСТВО ВАСИЛЬЕВОЙ АВ': ['ХОЗЯЙСТВО ВАСИЛЬЕВОЙ АВ'],\n",
       "   'MOLOKO GROUP': ['MOLOKO GROUP', 'МОЛОКО ГРОУП']},\n",
       "  'categoryID': [412239]},\n",
       " 'ХЛЕБ': {'name': 'ХЛЕБ',\n",
       "  'keywords': ['FINE',\n",
       "   'ТОРТИЛЬЯ',\n",
       "   'METRO',\n",
       "   'ТАРТАЛЕТКИ',\n",
       "   'LIFE',\n",
       "   'ШТ',\n",
       "   'ПШЕНИЧНАЯ',\n",
       "   'СУХАРИ',\n",
       "   'ДЛЯ',\n",
       "   'ИЗ',\n",
       "   'СЛОЕНОГО',\n",
       "   'СМ',\n",
       "   'БЕЗ',\n",
       "   'ХЛЕБНЫЙ',\n",
       "   'ДОМ',\n",
       "   'ЗАВИТКИ',\n",
       "   'ПШЕНИЧНЫЙ',\n",
       "   'ПЕСОЧНЫЕ',\n",
       "   'ИКРЫ',\n",
       "   'ТЕСТА',\n",
       "   'ДЕРЕВЕНСКИЙ',\n",
       "   'МАКОМ',\n",
       "   'ГЕРКУЛЕС',\n",
       "   'ОТРУБЯМИ',\n",
       "   'ШПИНАТНАЯ',\n",
       "   'БЕЛЫЙ',\n",
       "   'ПАН',\n",
       "   'СЭНДВИЧ',\n",
       "   'DAN',\n",
       "   'CAKE',\n",
       "   'XXL',\n",
       "   'PAN',\n",
       "   'MULTIGRANO',\n",
       "   'САЛАТА',\n",
       "   'БОЛЬШИЕ',\n",
       "   'ТЕМНЫЙ',\n",
       "   'БАТОНЧИК',\n",
       "   'БАРАНКИ',\n",
       "   'ТОСТОВЫЙ',\n",
       "   'ЛЕПЕШКИ',\n",
       "   'TORTILLAS',\n",
       "   'СМЕСЬ',\n",
       "   'ВЫПЕЧКИ',\n",
       "   'ХЛЕБА',\n",
       "   'КГ',\n",
       "   'САХАРА',\n",
       "   'КОРИЦЕЙ',\n",
       "   'САХАРОМ',\n",
       "   'AMERICAN',\n",
       "   'SANDWICH',\n",
       "   'ЭНЕРГИЯ',\n",
       "   'ЗДОРОВЬЯ',\n",
       "   'СТРОЙНЫЙ',\n",
       "   'ХЛЕБЦЫ',\n",
       "   'ЗЕРНОВОЙ',\n",
       "   'ЕВРОПЕЙСКИЙ',\n",
       "   'СВЕТЛЫЙ',\n",
       "   'РИЖСКИЙ',\n",
       "   'КРЕСТЬЯНСКИЙ',\n",
       "   'БЕЗДРОЖЖЕВОЙ',\n",
       "   'ЗАВАРНОЙ'],\n",
       "  'vendorlist': {'FINE LIFE': ['FINE LIFE', 'ФИНЕ ЛИФЕ'],\n",
       "   'METRO CHEF': ['METRO CHEF', 'МЕТРО ЦХЕФ'],\n",
       "   \"DR'SCHAR\": [\"DR'SCHAR\", 'ДРЬСЦХАР'],\n",
       "   'DAN CAKE': ['DAN CAKE', 'ДАН ЦАКЕ'],\n",
       "   'DELICADOS': ['DELICADOS', 'ДЕЛИЦАДОС'],\n",
       "   'BEZGLUTEN': ['BEZGLUTEN', 'БЕЗГЛУТЕН'],\n",
       "   'GERBER': ['GERBER', 'ГЕРБЕР'],\n",
       "   'ARO': ['ARO', 'АРО'],\n",
       "   'ХЛЕБНЫЙ ДОМ': ['ХЛЕБНЫЙ ДОМ'],\n",
       "   \"HARRY'S\": [\"HARRY'S\", 'ХАРРЫЬС'],\n",
       "   'FAZER': ['FAZER', 'ФАЗЕР'],\n",
       "   'ЛИДЕР': ['ЛИДЕР'],\n",
       "   'ЕВРОХЛЕБ': ['ЕВРОХЛЕБ'],\n",
       "   'РИЖСКИЙ ХЛЕБ': ['РИЖСКИЙ ХЛЕБ']},\n",
       "  'categoryID': [412331]}}"
      ]
     },
     "execution_count": 41,
     "metadata": {},
     "output_type": "execute_result"
    }
   ],
   "source": [
    "allCategories"
   ]
  },
  {
   "cell_type": "markdown",
   "metadata": {},
   "source": [
    "Этап 1.Определение категории"
   ]
  },
  {
   "cell_type": "code",
   "execution_count": 42,
   "metadata": {},
   "outputs": [],
   "source": [
    "text = ''' 3 буханки Еврохлеба,  хлеба Гербер  три бутылки молока Простоквашино, 9 бутылок молока Простоквашино'''"
   ]
  },
  {
   "cell_type": "code",
   "execution_count": 43,
   "metadata": {},
   "outputs": [],
   "source": [
    "Item = fact(\n",
    "    'item',\n",
    "    ['amount','vendor', 'category','unit','type']\n",
    ")"
   ]
  },
  {
   "cell_type": "code",
   "execution_count": 44,
   "metadata": {},
   "outputs": [
    {
     "data": {
      "text/plain": [
       "['МОЛОКО', 'ХЛЕБ']"
      ]
     },
     "execution_count": 44,
     "metadata": {},
     "output_type": "execute_result"
    }
   ],
   "source": [
    "list(allCategories.keys())"
   ]
  },
  {
   "cell_type": "code",
   "execution_count": 45,
   "metadata": {},
   "outputs": [],
   "source": [
    "TYPE = morph_pipeline(list(allCategories.keys()))\n",
    "ITEM_Category = rule(\n",
    "    TYPE.interpretation(\n",
    "        Item.type\n",
    "    )\n",
    ").interpretation(\n",
    "    Item\n",
    ")"
   ]
  },
  {
   "cell_type": "code",
   "execution_count": 46,
   "metadata": {},
   "outputs": [],
   "source": [
    "parser = Parser(ITEM_Category)\n",
    "match = parser.find(text)\n",
    "for match in parser.findall(text):\n",
    "    category = [_.value for _ in match.tokens][0]"
   ]
  },
  {
   "cell_type": "code",
   "execution_count": 47,
   "metadata": {},
   "outputs": [
    {
     "data": {
      "text/plain": [
       "'молока'"
      ]
     },
     "execution_count": 47,
     "metadata": {},
     "output_type": "execute_result"
    }
   ],
   "source": [
    "category"
   ]
  },
  {
   "cell_type": "markdown",
   "metadata": {},
   "source": [
    "Этап 2. Определение производителя"
   ]
  },
  {
   "cell_type": "code",
   "execution_count": 48,
   "metadata": {},
   "outputs": [
    {
     "data": {
      "text/plain": [
       "'МОЛОКО'"
      ]
     },
     "execution_count": 48,
     "metadata": {},
     "output_type": "execute_result"
    }
   ],
   "source": [
    "morph = pymorphy2.MorphAnalyzer()\n",
    "categoryName = morph.parse(category)[0].normal_form.upper()\n",
    "categoryName"
   ]
  },
  {
   "cell_type": "code",
   "execution_count": 89,
   "metadata": {},
   "outputs": [],
   "source": [
    "def getVendorList(data):\n",
    "    vendorList = []\n",
    "    vendorValues = list(data.values())\n",
    "    for alt in vendorValues:\n",
    "        for value in alt:\n",
    "            vendorList.append(value)\n",
    "    return vendorList"
   ]
  },
  {
   "cell_type": "code",
   "execution_count": 96,
   "metadata": {},
   "outputs": [],
   "source": [
    "def findVendorData(vendorData,vendor):\n",
    "    for vendorName in vendorData.keys():\n",
    "        if(vendor.upper() in vendorData[vendorName]):\n",
    "            return vendorName\n",
    "    return \"\""
   ]
  },
  {
   "cell_type": "code",
   "execution_count": 98,
   "metadata": {},
   "outputs": [
    {
     "data": {
      "text/plain": [
       "'VALIO'"
      ]
     },
     "execution_count": 98,
     "metadata": {},
     "output_type": "execute_result"
    }
   ],
   "source": [
    "findVendorData(allCategories[categoryName][\"vendorlist\"],\"ВАЛИо\")"
   ]
  },
  {
   "cell_type": "code",
   "execution_count": 90,
   "metadata": {},
   "outputs": [
    {
     "data": {
      "text/plain": [
       "['VALIO',\n",
       " 'ВАЛИО',\n",
       " 'RIOBA',\n",
       " 'РИОБА',\n",
       " 'ARO',\n",
       " 'АРО',\n",
       " 'PARMALAT',\n",
       " 'ПАРМАЛАТ',\n",
       " 'G-BALANCE',\n",
       " 'Г-БАЛАНЦЕ',\n",
       " 'ДОМИК В ДЕРЕВНЕ',\n",
       " 'ПРОСТОКВАШИНО',\n",
       " 'БЕЛЫЙ ГОРОД',\n",
       " 'ПЕТМОЛ',\n",
       " 'ТЕМА',\n",
       " 'ЭКОНИВА',\n",
       " 'АСЕНЬЕВСКАЯ ФЕРМА',\n",
       " 'ПИСКАРЕВСКОЕ',\n",
       " 'ФРУТОНЯНЯ',\n",
       " 'PROMILKER',\n",
       " 'ПРОМИЛКЕР',\n",
       " 'СВЕЖЕЕ ЗАВТРА',\n",
       " 'КЛЕВЕР',\n",
       " 'БОЛЬШАЯ КРУЖКА',\n",
       " 'ВЕСЕЛЫЙ МОЛОЧНИК',\n",
       " 'ВКУСНОТЕЕВО',\n",
       " 'УГЛЕЧЕ ПОЛЕ',\n",
       " 'FASOL',\n",
       " 'ФАСОЛ',\n",
       " 'FINE LIFE',\n",
       " 'ФИНЕ ЛИФЕ',\n",
       " 'АИСФЕР',\n",
       " 'БРЯНСКИЙ МОЛОЧНЫЙ КОМБИНАТ',\n",
       " 'СЕЛО ЗЕЛЕНОЕ',\n",
       " 'BETTAMILK',\n",
       " 'БЕТТАМИЛК',\n",
       " 'ХОЗЯЙСТВО ВАСИЛЬЕВОЙ АВ',\n",
       " 'MOLOKO GROUP',\n",
       " 'МОЛОКО ГРОУП']"
      ]
     },
     "execution_count": 90,
     "metadata": {},
     "output_type": "execute_result"
    }
   ],
   "source": [
    "getVendorList(allCategories[categoryName][\"vendorlist\"])"
   ]
  },
  {
   "cell_type": "code",
   "execution_count": 52,
   "metadata": {},
   "outputs": [],
   "source": [
    "VENDOR = morph_pipeline(allCategories[categoryName][\"vendorlist\"].keys())"
   ]
  },
  {
   "cell_type": "code",
   "execution_count": 53,
   "metadata": {},
   "outputs": [],
   "source": [
    "ITEM_Vendor = rule(\n",
    "    VENDOR.interpretation(\n",
    "        Item.vendor\n",
    "    )\n",
    ").interpretation(\n",
    "    Item\n",
    ")"
   ]
  },
  {
   "cell_type": "code",
   "execution_count": 54,
   "metadata": {},
   "outputs": [
    {
     "data": {
      "text/plain": [
       "Match(\n",
       "    tokens=[MorphToken(\n",
       "         value='Простоквашино',\n",
       "         span=[56, 69),\n",
       "         type='RU',\n",
       "         forms=[Form('простоквашин', Grams(ADJF,Poss,neut,nomn,sing)),\n",
       "          Form('простоквашин', Grams(ADJF,Poss,accs,neut,sing)),\n",
       "          Form('простоквашино', Grams(Geox,NOUN,Sgtm,inan,neut,nomn,sing)),\n",
       "          Form('простоквашино', Grams(Geox,NOUN,Sgtm,accs,inan,neut,sing))]\n",
       "     )],\n",
       "    span=[56, 69)\n",
       ")"
      ]
     },
     "metadata": {},
     "output_type": "display_data"
    }
   ],
   "source": [
    "parser = Parser(ITEM_Vendor)\n",
    "match = parser.find(text)\n",
    "display(match)\n",
    "for match in parser.findall(text):\n",
    "    vendor = [_.value for _ in match.tokens][0]"
   ]
  },
  {
   "cell_type": "markdown",
   "metadata": {},
   "source": [
    "Этап 3 определение кол-ва и прочего"
   ]
  },
  {
   "cell_type": "code",
   "execution_count": 24,
   "metadata": {},
   "outputs": [
    {
     "data": {
      "text/plain": [
       "'МОЛОКО'"
      ]
     },
     "execution_count": 24,
     "metadata": {},
     "output_type": "execute_result"
    }
   ],
   "source": [
    "categoryName"
   ]
  },
  {
   "cell_type": "code",
   "execution_count": 25,
   "metadata": {},
   "outputs": [],
   "source": [
    "CATEGORY = morph_pipeline([categoryName])"
   ]
  },
  {
   "cell_type": "code",
   "execution_count": 26,
   "metadata": {},
   "outputs": [
    {
     "data": {
      "text/plain": [
       "PipelineRule(\n",
       "    pipeline=MorphPipeline(\n",
       "        keys=[Key(\n",
       "             value='МОЛОКО',\n",
       "             terms=[{'молоко'}]\n",
       "         ),\n",
       "         Key(\n",
       "             value='ХЛЕБ',\n",
       "             terms=[{'хлеб'}]\n",
       "         )]\n",
       "    )\n",
       ")"
      ]
     },
     "execution_count": 26,
     "metadata": {},
     "output_type": "execute_result"
    }
   ],
   "source": [
    "TYPE"
   ]
  },
  {
   "cell_type": "code",
   "execution_count": 27,
   "metadata": {},
   "outputs": [],
   "source": [
    "AMOUNT =  INT.interpretation(\n",
    "    interp.custom(int)\n",
    ")"
   ]
  },
  {
   "cell_type": "code",
   "execution_count": 28,
   "metadata": {},
   "outputs": [],
   "source": [
    "UNIT = morph_pipeline([\"бутылка\"])"
   ]
  },
  {
   "cell_type": "code",
   "execution_count": 29,
   "metadata": {},
   "outputs": [],
   "source": [
    "LITERALS = {\n",
    "    'один': 1,\n",
    "    'два': 2,\n",
    "    'три': 3,\n",
    "    'четыре': 4,\n",
    "    'пять': 5,\n",
    "    'шесть': 6,\n",
    "    'семь': 7,\n",
    "    'восемь': 8,\n",
    "    'девять': 9,\n",
    "}"
   ]
  },
  {
   "cell_type": "code",
   "execution_count": 30,
   "metadata": {},
   "outputs": [],
   "source": [
    "AMOUNT = dictionary(LITERALS).interpretation(\n",
    "    interp.normalized().custom(LITERALS.get)\n",
    ")\n",
    "\n",
    "AMOUNT_NUM =  INT.interpretation(\n",
    "    interp.custom(int)\n",
    ")\n",
    "\n"
   ]
  },
  {
   "cell_type": "code",
   "execution_count": 32,
   "metadata": {
    "tags": []
   },
   "outputs": [],
   "source": [
    " ITEM_MISC = rule(\n",
    "        AMOUNT.interpretation(\n",
    "            Item.amount\n",
    "        ).optional(),\n",
    "        AMOUNT_NUM.interpretation(\n",
    "            Item.amount\n",
    "        ).optional(),\n",
    "        UNIT.interpretation(\n",
    "            Item.unit\n",
    "        ).optional(),\n",
    "        CATEGORY.interpretation(\n",
    "            Item.category\n",
    "        ),\n",
    "        VENDOR.interpretation(\n",
    "            Item.vendor\n",
    "        ).optional()\n",
    "    ).interpretation(\n",
    "        Item\n",
    "    )\n",
    "   "
   ]
  },
  {
   "cell_type": "code",
   "execution_count": 33,
   "metadata": {
    "scrolled": true
   },
   "outputs": [
    {
     "data": {
      "text/plain": [
       "Match(\n",
       "    tokens=[MorphToken(\n",
       "         value='три',\n",
       "         span=[37, 40),\n",
       "         type='RU',\n",
       "         forms=[Form('три', Grams(NUMR,accs,inan)),\n",
       "          Form('три', Grams(NUMR,nomn)),\n",
       "          Form('тереть', Grams(VERB,excl,impf,impr,sing,tran))]\n",
       "     ),\n",
       "     MorphToken(\n",
       "         value='бутылки',\n",
       "         span=[41, 48),\n",
       "         type='RU',\n",
       "         forms=[Form('бутылка', Grams(NOUN,femn,gent,inan,sing)),\n",
       "          Form('бутылка', Grams(NOUN,accs,femn,inan,plur)),\n",
       "          Form('бутылка', Grams(NOUN,femn,inan,nomn,plur))]\n",
       "     ),\n",
       "     MorphToken(\n",
       "         value='молока',\n",
       "         span=[49, 55),\n",
       "         type='RU',\n",
       "         forms=[Form('молоко', Grams(NOUN,Sgtm,gent,inan,neut,sing)),\n",
       "          Form('молока', Grams(NOUN,femn,inan,nomn,sing))]\n",
       "     ),\n",
       "     MorphToken(\n",
       "         value='Простоквашино',\n",
       "         span=[56, 69),\n",
       "         type='RU',\n",
       "         forms=[Form('простоквашин', Grams(ADJF,Poss,neut,nomn,sing)),\n",
       "          Form('простоквашин', Grams(ADJF,Poss,accs,neut,sing)),\n",
       "          Form('простоквашино', Grams(Geox,NOUN,Sgtm,inan,neut,nomn,sing)),\n",
       "          Form('простоквашино', Grams(Geox,NOUN,Sgtm,accs,inan,neut,sing))]\n",
       "     )],\n",
       "    span=[37, 69)\n",
       ")"
      ]
     },
     "metadata": {},
     "output_type": "display_data"
    }
   ],
   "source": [
    "parser = Parser(ITEM_MISC)\n",
    "match = parser.find(text)\n",
    "display(match)\n",
    "for match in parser.findall(text):\n",
    "    vendor = [_.value for _ in match.tokens][0]"
   ]
  },
  {
   "cell_type": "code",
   "execution_count": 34,
   "metadata": {},
   "outputs": [
    {
     "name": "stdout",
     "output_type": "stream",
     "text": [
      "['три', 'бутылки', 'молока', 'Простоквашино']\n",
      "['9', 'бутылок', 'молока', 'Простоквашино']\n"
     ]
    }
   ],
   "source": [
    "for match in parser.findall(text):\n",
    "    itemsData = []\n",
    "    for itemData in [_.value for _ in match.tokens]:\n",
    "        itemsData.append(itemData)\n",
    "    print(itemsData)"
   ]
  },
  {
   "cell_type": "code",
   "execution_count": null,
   "metadata": {},
   "outputs": [],
   "source": [
    "def findVendor"
   ]
  },
  {
   "cell_type": "code",
   "execution_count": null,
   "metadata": {},
   "outputs": [],
   "source": [
    "os.environ['w2n.lang'] = 'ru'\n",
    "\n",
    "w2n.word_to_num('пятьдесят')\n"
   ]
  },
  {
   "cell_type": "code",
   "execution_count": null,
   "metadata": {
    "scrolled": true
   },
   "outputs": [],
   "source": [
    "match.fact.vendor"
   ]
  },
  {
   "cell_type": "code",
   "execution_count": null,
   "metadata": {},
   "outputs": [],
   "source": [
    "match.fact.type"
   ]
  },
  {
   "cell_type": "code",
   "execution_count": null,
   "metadata": {},
   "outputs": [],
   "source": [
    "match.fact.amount"
   ]
  },
  {
   "cell_type": "markdown",
   "metadata": {},
   "source": [
    "Заключительный этап. Поиск по БД"
   ]
  },
  {
   "cell_type": "code",
   "execution_count": null,
   "metadata": {},
   "outputs": [],
   "source": [
    "milk['manufacturer']"
   ]
  },
  {
   "cell_type": "code",
   "execution_count": null,
   "metadata": {},
   "outputs": [],
   "source": [
    "milk[milk['manufacturer'].item()['name'] == \"VALIO\"]"
   ]
  },
  {
   "cell_type": "code",
   "execution_count": null,
   "metadata": {
    "scrolled": true
   },
   "outputs": [],
   "source": [
    "milk[milk['manufacturer'].name.upper() ==  match.fact.vendor]"
   ]
  }
 ],
 "metadata": {
  "kernelspec": {
   "display_name": "Python 3",
   "language": "python",
   "name": "python3"
  },
  "language_info": {
   "codemirror_mode": {
    "name": "ipython",
    "version": 3
   },
   "file_extension": ".py",
   "mimetype": "text/x-python",
   "name": "python",
   "nbconvert_exporter": "python",
   "pygments_lexer": "ipython3",
   "version": "3.9.4"
  }
 },
 "nbformat": 4,
 "nbformat_minor": 4
}
