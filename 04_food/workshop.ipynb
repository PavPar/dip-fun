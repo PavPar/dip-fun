{
 "cells": [
  {
   "cell_type": "markdown",
   "metadata": {},
   "source": [
    "# Data"
   ]
  },
  {
   "cell_type": "markdown",
   "metadata": {},
   "source": [
    "- https://vk.com/u_samovaraa?w=wall-81871567_61842\n",
    "- https://vk.com/vkys_nos?w=wall-41960737_13333\n",
    "- https://vk.com/receptik_kulinar?w=wall-59496329_52708\n",
    "- https://vk.com/lisimnik_cake?w=wall-82240292_25648\n",
    "- https://vk.com/kingcook?w=wall-59442940_11047\n",
    "- https://vk.com/u_samovaraa?w=wall-81871567_61917\n",
    "- https://vk.com/quickrecipes?w=wall-61337543_5892\n",
    "- https://vk.com/namenuru?w=wall-36303114_56579\n",
    "- https://vk.com/vegan_cookbook?w=wall-43818640_25903\n",
    "- https://vk.com/multivarka_cook?w=wall-51300483_11948"
   ]
  },
  {
   "cell_type": "code",
   "execution_count": 12,
   "metadata": {},
   "outputs": [],
   "source": [
    "from glob import iglob as list_paths\n",
    "\n",
    "\n",
    "def load_text(path):\n",
    "    with open(path) as file:\n",
    "        return file.read()\n",
    "\n",
    "\n",
    "texts = sorted(\n",
    "    load_text(_)\n",
    "    for _ in list_paths('texts_org/*.txt')\n",
    ")"
   ]
  },
  {
   "cell_type": "code",
   "execution_count": 13,
   "metadata": {},
   "outputs": [],
   "source": [
    "def make_translation(source, target):\n",
    "    assert len(source) == len(target)\n",
    "    return {\n",
    "        ord(a): ord(b)\n",
    "        for a, b in zip(source, target)\n",
    "    }\n",
    "\n",
    "\n",
    "DASHES_TRANSLATION = make_translation(\n",
    "    '‑–—−',\n",
    "    '----'\n",
    ")\n",
    "\n",
    "\n",
    "def preprocess(text):\n",
    "    text = text.replace('\\xa0', ' ')\n",
    "    text = text.replace('\\xad', '')\n",
    "    text = text.translate(DASHES_TRANSLATION)\n",
    "    return text\n",
    "\n",
    "\n",
    "texts = [preprocess(_) for _ in texts]"
   ]
  },
  {
   "cell_type": "code",
   "execution_count": 14,
   "metadata": {},
   "outputs": [
    {
     "name": "stdout",
     "output_type": "stream",
     "text": [
      "\"Баранки\"\n",
      "\n",
      "Баранки хорошо подходят к чаю, кофе и молоку. У изделий хрустящая корочка и рассыпчатый мякиш. Идеальны для детей как сладкое лакомство.\n",
      "Совет шеф-повара: Полейте баранки жидким шоколадом или посыпьте сахарной пудрой. Добавьте в тесто обжаренные кунжутные семечки, это придаст выпечке легкий восточный колорит.\n",
      "\n",
      "Количество порций - 16 шт. (по 60 г)\n",
      "Время приготовления - 45 мин\n",
      "\n",
      "Ингредиенты:\n",
      "\n",
      "450 г пшеничной муки\n",
      "2 яйца\n",
      "50 мл растительного масла\n",
      "200 мл молока + 20 мл на смазывание\n",
      "10 ч. л. сахара\n",
      "1 ч. л. соды\n",
      "1 ч. л. соли\n",
      "15 г муки на подпыл\n",
      "\n",
      "Еще больше рецептов в приложении для iPad и iPhone \"Готовят все\" https://itunes.apple.com/ru/app/id587314984\n"
     ]
    }
   ],
   "source": [
    "print(texts[0])"
   ]
  },
  {
   "cell_type": "code",
   "execution_count": 15,
   "metadata": {},
   "outputs": [],
   "source": [
    "import re\n",
    "\n",
    "\n",
    "def find_ingredient_sections(text):\n",
    "    return re.findall(r'ингредиенты:(.+?)приготовление', text, re.I | re.S)\n",
    "\n",
    "\n",
    "\n",
    "def maybe_ingredient(line):\n",
    "    match = re.search(r'\\d', line)\n",
    "    size = len(line) <= 50\n",
    "    return match and size\n",
    "\n",
    "\n",
    "lines = []\n",
    "for text in texts:\n",
    "    sections = find_ingredient_sections(text)\n",
    "    for section in sections:\n",
    "        for line in section.splitlines():\n",
    "            if maybe_ingredient(line):\n",
    "                lines.append(line)"
   ]
  },
  {
   "cell_type": "code",
   "execution_count": 18,
   "metadata": {},
   "outputs": [],
   "source": [
    "lines = ['молока бутылки 3', 'хлеб', '3 яйца']"
   ]
  },
  {
   "cell_type": "code",
   "execution_count": 20,
   "metadata": {},
   "outputs": [
    {
     "data": {
      "text/plain": [
       "['молока бутылки 3', '3 яйца', 'хлеб']"
      ]
     },
     "execution_count": 20,
     "metadata": {},
     "output_type": "execute_result"
    }
   ],
   "source": [
    "from random import seed, sample\n",
    "\n",
    "seed(1)\n",
    "sample(lines, 3)"
   ]
  },
  {
   "cell_type": "code",
   "execution_count": 21,
   "metadata": {},
   "outputs": [
    {
     "data": {
      "text/plain": [
       "3"
      ]
     },
     "execution_count": 21,
     "metadata": {},
     "output_type": "execute_result"
    }
   ],
   "source": [
    "len(lines)"
   ]
  },
  {
   "cell_type": "markdown",
   "metadata": {},
   "source": [
    "# Grammar"
   ]
  },
  {
   "cell_type": "code",
   "execution_count": 27,
   "metadata": {},
   "outputs": [
    {
     "data": {
      "text/plain": [
       "[Token(\n",
       "     value='3',\n",
       "     span=[0, 1),\n",
       "     type='INT'\n",
       " ),\n",
       " MorphToken(\n",
       "     value='бутылки',\n",
       "     span=[2, 9),\n",
       "     type='RU',\n",
       "     forms=[Form('бутылка', Grams(NOUN,femn,gent,inan,sing)),\n",
       "      Form('бутылка', Grams(NOUN,femn,inan,nomn,plur)),\n",
       "      Form('бутылка', Grams(NOUN,accs,femn,inan,plur))]\n",
       " ),\n",
       " MorphToken(\n",
       "     value='молока',\n",
       "     span=[10, 16),\n",
       "     type='RU',\n",
       "     forms=[Form('молоко', Grams(NOUN,Sgtm,gent,inan,neut,sing)),\n",
       "      Form('молока', Grams(NOUN,femn,inan,nomn,sing))]\n",
       " ),\n",
       " MorphToken(\n",
       "     value='хлеб',\n",
       "     span=[17, 21),\n",
       "     type='RU',\n",
       "     forms=[Form('хлеб', Grams(NOUN,accs,inan,masc,sing)),\n",
       "      Form('хлеб', Grams(NOUN,inan,masc,nomn,sing))]\n",
       " )]"
      ]
     },
     "execution_count": 27,
     "metadata": {},
     "output_type": "execute_result"
    }
   ],
   "source": [
    "from yargy.tokenizer import MorphTokenizer\n",
    "\n",
    "TOKENIZER = MorphTokenizer()\n",
    "list(TOKENIZER('3 бутылки молока хлеб'))"
   ]
  },
  {
   "cell_type": "code",
   "execution_count": 8,
   "metadata": {
    "scrolled": false
   },
   "outputs": [],
   "source": [
    "# %run -n main.py\n",
    "# parser = Parser(INGREDIENT)\n",
    "# seed(1)\n",
    "# for line in sample(lines, 100):\n",
    "#     matches = list(parser.findall(line))\n",
    "#     spans = [_.span for _ in matches]\n",
    "#     show_markup(line, spans)\n",
    "# #     if matches:\n",
    "# #         match = matches[0]\n",
    "# #         display(match.tree.as_dot)\n",
    "# #         display(match.fact)"
   ]
  },
  {
   "cell_type": "code",
   "execution_count": null,
   "metadata": {},
   "outputs": [],
   "source": []
  }
 ],
 "metadata": {
  "kernelspec": {
   "display_name": "Python 3",
   "language": "python",
   "name": "python3"
  },
  "language_info": {
   "codemirror_mode": {
    "name": "ipython",
    "version": 3
   },
   "file_extension": ".py",
   "mimetype": "text/x-python",
   "name": "python",
   "nbconvert_exporter": "python",
   "pygments_lexer": "ipython3",
   "version": "3.6.9"
  }
 },
 "nbformat": 4,
 "nbformat_minor": 2
}
